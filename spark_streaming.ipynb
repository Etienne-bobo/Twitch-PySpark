{
 "cells": [
  {
   "cell_type": "code",
   "execution_count": 1,
   "metadata": {},
   "outputs": [
    {
     "name": "stderr",
     "output_type": "stream",
     "text": [
      "23/05/02 02:26:27 WARN Utils: Your hostname, etiennebobo-Prestige-15-A10SC resolves to a loopback address: 127.0.1.1; using 172.20.10.3 instead (on interface wlo1)\n",
      "23/05/02 02:26:27 WARN Utils: Set SPARK_LOCAL_IP if you need to bind to another address\n",
      "Setting default log level to \"WARN\".\n",
      "To adjust logging level use sc.setLogLevel(newLevel). For SparkR, use setLogLevel(newLevel).\n",
      "23/05/02 02:26:28 WARN NativeCodeLoader: Unable to load native-hadoop library for your platform... using builtin-java classes where applicable\n",
      "/home/etienne-bobo/.local/lib/python3.10/site-packages/pyspark/streaming/context.py:72: FutureWarning: DStream is deprecated as of Spark 3.4.0. Migrate to Structured Streaming.\n",
      "  warnings.warn(\n",
      "                                                                                \r"
     ]
    },
    {
     "name": "stdout",
     "output_type": "stream",
     "text": [
      "Cluster sizes in the sliding window:\n",
      "  Cluster 1: 1 messages\n",
      "\n",
      "\n",
      "--------------------------------------------------\n",
      "Timestamp:\t[2023-05-02 02:26:31]\n",
      "Username:\testiimated\n",
      "Sentiment:\tNeutral\n",
      "Message:\tMyHonestReaction 󠀀\n",
      "Cluster:\t1\n",
      "--------------------------------------------------\n",
      "\n"
     ]
    },
    {
     "name": "stderr",
     "output_type": "stream",
     "text": [
      "                                                                                \r"
     ]
    },
    {
     "name": "stdout",
     "output_type": "stream",
     "text": [
      "Cluster sizes in the sliding window:\n",
      "  Cluster 1: 6 messages\n",
      "\n",
      "\n",
      "--------------------------------------------------\n",
      "Timestamp:\t[2023-05-02 02:26:31]\n",
      "Username:\testiimated\n",
      "Sentiment:\tNeutral\n",
      "Message:\tMyHonestReaction 󠀀\n",
      "Cluster:\t1\n",
      "--------------------------------------------------\n",
      "\n"
     ]
    },
    {
     "name": "stderr",
     "output_type": "stream",
     "text": [
      "                                                                                \r"
     ]
    },
    {
     "name": "stdout",
     "output_type": "stream",
     "text": [
      "Cluster sizes in the sliding window:\n",
      "  Cluster 1: 6 messages\n",
      "\n",
      "\n",
      "--------------------------------------------------\n",
      "Timestamp:\t[2023-05-02 02:26:34]\n",
      "Username:\tzsungat\n",
      "Sentiment:\tNeutral\n",
      "Message:\t2:56 Pirate_hat: @Pirate_hat: Nerdge @zsungat @Pirate_hat: Nerdge Nerdge @zsungat @Pirate_hat: Nerdge @zsungat @Pirate_hat: Nerdge Nerdge @zsungat @Pirate_hat: Nerdge @zsungat @Pirate_hat: Nerdge Nerdge @zsungat @Pirate_hat: Nerdge @zsungat @Pirate_hat: Nerdge Nerdge @zsungat\n",
      "Cluster:\t1\n",
      "--------------------------------------------------\n",
      "\n"
     ]
    },
    {
     "name": "stderr",
     "output_type": "stream",
     "text": [
      "                                                                                \r"
     ]
    },
    {
     "name": "stdout",
     "output_type": "stream",
     "text": [
      "Cluster sizes in the sliding window:\n",
      "  Cluster 1: 6 messages\n",
      "\n",
      "\n",
      "--------------------------------------------------\n",
      "Timestamp:\t[2023-05-02 02:26:34]\n",
      "Username:\testiimated\n",
      "Sentiment:\tNeutral\n",
      "Message:\tMyHonestReaction\n",
      "Cluster:\t1\n",
      "--------------------------------------------------\n",
      "\n"
     ]
    },
    {
     "name": "stderr",
     "output_type": "stream",
     "text": [
      "                                                                                \r"
     ]
    },
    {
     "name": "stdout",
     "output_type": "stream",
     "text": [
      "Cluster sizes in the sliding window:\n",
      "  Cluster 1: 6 messages\n",
      "\n",
      "\n",
      "--------------------------------------------------\n",
      "Timestamp:\t[2023-05-02 02:26:34]\n",
      "Username:\tersieeswambo\n",
      "Sentiment:\tNeutral\n",
      "Message:\tGushii is my alt\n",
      "Cluster:\t1\n",
      "--------------------------------------------------\n",
      "\n"
     ]
    },
    {
     "name": "stderr",
     "output_type": "stream",
     "text": [
      "                                                                                \r"
     ]
    },
    {
     "name": "stdout",
     "output_type": "stream",
     "text": [
      "Cluster sizes in the sliding window:\n",
      "  Cluster 1: 6 messages\n",
      "\n",
      "\n",
      "--------------------------------------------------\n",
      "Timestamp:\t[2023-05-02 02:26:36]\n",
      "Username:\tzsungat\n",
      "Sentiment:\tNeutral\n",
      "Message:\tcatEat nymnCorn\n",
      "Cluster:\t1\n",
      "--------------------------------------------------\n",
      "\n"
     ]
    },
    {
     "name": "stderr",
     "output_type": "stream",
     "text": [
      "                                                                                \r"
     ]
    },
    {
     "name": "stdout",
     "output_type": "stream",
     "text": [
      "Cluster sizes in the sliding window:\n",
      "  Cluster 1: 6 messages\n",
      "\n",
      "\n",
      "--------------------------------------------------\n",
      "Timestamp:\t[2023-05-02 02:26:37]\n",
      "Username:\tpirate_hat\n",
      "Sentiment:\tNeutral\n",
      "Message:\t@Pirate_hat: Nerdge @zsungat @Pirate_hat: Nerdge Nerdge @zsungat @HiMemeMan @riotskate @Pirate_hat: Nerdge @zsungat @Pirate_hat: Nerdge Nerdge @zsungat @HiMemeMan @riotskate @Pirate_hat: Nerdge @zsungat @Pirate_hat: Nerdge Nerdge @zsungat @HiMemeMan @riotskate @Pirate_hat: Nerdge @zsungat\n",
      ":nate_thesnake!nate_thesnake@nate_thesnake.tmi.twitch.tv PRIVMSG #pokelawls :ban everyone tbh\n",
      ":pirate_hat!pirate_hat@pirate_hat.tmi.twitch.tv PRIVMSG #pokelawls :@Pirate_hat:  Nerdge @zsungat @Pirate_hat: Nerdge Nerdge @zsungat @HiMemeMan @riotskate @Pirate_hat: Nerdge @zsungat @Pirate_hat: Nerdge Nerdge @zsungat @HiMemeMan @riotskate @Pirate_hat: Nerdge @zsungat @Pirate_hat: Nerdge Nerdge @zsungat @HiMemeMan @riotskate @Pirate_hat: Nerdge @zsungat\n",
      "Cluster:\t1\n",
      "--------------------------------------------------\n",
      "\n"
     ]
    },
    {
     "name": "stderr",
     "output_type": "stream",
     "text": [
      "                                                                                \r"
     ]
    },
    {
     "name": "stdout",
     "output_type": "stream",
     "text": [
      "Cluster sizes in the sliding window:\n",
      "  Cluster 1: 7 messages\n",
      "\n",
      "\n",
      "--------------------------------------------------\n",
      "Timestamp:\t[2023-05-02 02:26:34]\n",
      "Username:\tzsungat\n",
      "Sentiment:\tNeutral\n",
      "Message:\t2:56 Pirate_hat: @Pirate_hat: Nerdge @zsungat @Pirate_hat: Nerdge Nerdge @zsungat @Pirate_hat: Nerdge @zsungat @Pirate_hat: Nerdge Nerdge @zsungat @Pirate_hat: Nerdge @zsungat @Pirate_hat: Nerdge Nerdge @zsungat @Pirate_hat: Nerdge @zsungat @Pirate_hat: Nerdge Nerdge @zsungat\n",
      "Cluster:\t1\n",
      "--------------------------------------------------\n",
      "\n"
     ]
    },
    {
     "name": "stderr",
     "output_type": "stream",
     "text": [
      "                                                                                \r"
     ]
    },
    {
     "name": "stdout",
     "output_type": "stream",
     "text": [
      "Cluster sizes in the sliding window:\n",
      "  Cluster 1: 7 messages\n",
      "\n",
      "\n",
      "--------------------------------------------------\n",
      "Timestamp:\t[2023-05-02 02:26:34]\n",
      "Username:\testiimated\n",
      "Sentiment:\tNeutral\n",
      "Message:\tMyHonestReaction\n",
      "Cluster:\t1\n",
      "--------------------------------------------------\n",
      "\n"
     ]
    },
    {
     "name": "stderr",
     "output_type": "stream",
     "text": [
      "                                                                                \r"
     ]
    },
    {
     "name": "stdout",
     "output_type": "stream",
     "text": [
      "Cluster sizes in the sliding window:\n",
      "  Cluster 1: 7 messages\n",
      "\n",
      "\n",
      "--------------------------------------------------\n",
      "Timestamp:\t[2023-05-02 02:26:34]\n",
      "Username:\tersieeswambo\n",
      "Sentiment:\tNeutral\n",
      "Message:\tGushii is my alt\n",
      "Cluster:\t1\n",
      "--------------------------------------------------\n",
      "\n"
     ]
    },
    {
     "name": "stderr",
     "output_type": "stream",
     "text": [
      "                                                                                \r"
     ]
    },
    {
     "name": "stdout",
     "output_type": "stream",
     "text": [
      "Cluster sizes in the sliding window:\n",
      "  Cluster 1: 7 messages\n",
      "\n",
      "\n",
      "--------------------------------------------------\n",
      "Timestamp:\t[2023-05-02 02:26:36]\n",
      "Username:\tzsungat\n",
      "Sentiment:\tNeutral\n",
      "Message:\tcatEat nymnCorn\n",
      "Cluster:\t1\n",
      "--------------------------------------------------\n",
      "\n"
     ]
    },
    {
     "name": "stderr",
     "output_type": "stream",
     "text": [
      "                                                                                \r"
     ]
    },
    {
     "name": "stdout",
     "output_type": "stream",
     "text": [
      "Cluster sizes in the sliding window:\n",
      "  Cluster 1: 7 messages\n",
      "\n",
      "\n",
      "--------------------------------------------------\n",
      "Timestamp:\t[2023-05-02 02:26:37]\n",
      "Username:\tpirate_hat\n",
      "Sentiment:\tNeutral\n",
      "Message:\t@Pirate_hat: Nerdge @zsungat @Pirate_hat: Nerdge Nerdge @zsungat @HiMemeMan @riotskate @Pirate_hat: Nerdge @zsungat @Pirate_hat: Nerdge Nerdge @zsungat @HiMemeMan @riotskate @Pirate_hat: Nerdge @zsungat @Pirate_hat: Nerdge Nerdge @zsungat @HiMemeMan @riotskate @Pirate_hat: Nerdge @zsungat\n",
      ":nate_thesnake!nate_thesnake@nate_thesnake.tmi.twitch.tv PRIVMSG #pokelawls :ban everyone tbh\n",
      ":pirate_hat!pirate_hat@pirate_hat.tmi.twitch.tv PRIVMSG #pokelawls :@Pirate_hat:  Nerdge @zsungat @Pirate_hat: Nerdge Nerdge @zsungat @HiMemeMan @riotskate @Pirate_hat: Nerdge @zsungat @Pirate_hat: Nerdge Nerdge @zsungat @HiMemeMan @riotskate @Pirate_hat: Nerdge @zsungat @Pirate_hat: Nerdge Nerdge @zsungat @HiMemeMan @riotskate @Pirate_hat: Nerdge @zsungat\n",
      "Cluster:\t1\n",
      "--------------------------------------------------\n",
      "\n"
     ]
    },
    {
     "name": "stderr",
     "output_type": "stream",
     "text": [
      "                                                                                \r"
     ]
    },
    {
     "name": "stdout",
     "output_type": "stream",
     "text": [
      "Cluster sizes in the sliding window:\n",
      "  Cluster 1: 7 messages\n",
      "\n",
      "\n",
      "--------------------------------------------------\n",
      "Timestamp:\t[2023-05-02 02:26:39]\n",
      "Username:\tzsungat\n",
      "Sentiment:\tNegative\n",
      "Message:\tcatEat  nymnCorn\n",
      ":estiimated!estiimated@estiimated.tmi.twitch.tv PRIVMSG #pokelawls :MyHonestReaction 󠀀\n",
      ":pirate_hat!pirate_hat@pirate_hat.tmi.twitch.tv PRIVMSG #pokelawls :@Pirate_hat: Nerdge @zsungat @Pirate_hat: Nerdge Nerdge @zsungat @HiMemeMan @riotskate @Pirate_hat: Nerdge @zsungat @Pirate_hat: Nerdge Nerdge @zsungat @HiMemeMan @riotskate @Pirate_hat: Nerdge @zsungat @Pirate_hat: Nerdge Nerdge @zsungat @HiMemeMan @riotskate @Pirate_hat: Nerdge @zsungat\n",
      ":ersieeswambo!ersieeswambo@ersieeswambo.tmi.twitch.tv PRIVMSG #pokelawls :ill stop\n",
      "Cluster:\t1\n",
      "--------------------------------------------------\n",
      "\n"
     ]
    },
    {
     "name": "stderr",
     "output_type": "stream",
     "text": [
      "[Stage 0:>                                                          (0 + 1) / 1]\r"
     ]
    }
   ],
   "source": [
    "# Import necessary libraries\n",
    "from pyspark import SparkContext\n",
    "from pyspark.streaming import StreamingContext\n",
    "from pyspark.mllib.linalg import Vectors\n",
    "from pyspark.mllib.clustering import StreamingKMeans\n",
    "from textblob import TextBlob\n",
    "import json\n",
    "import sqlite3\n",
    "\n",
    "# Function to create a database table for storing messages\n",
    "def create_db_table():\n",
    "    conn = sqlite3.connect(\"messages.db\")\n",
    "    c = conn.cursor()\n",
    "    c.execute('''CREATE TABLE IF NOT EXISTS messages\n",
    "                 (date TEXT, username TEXT, sentiment TEXT, message TEXT, cluster INTEGER)''')\n",
    "    conn.commit()\n",
    "    conn.close()\n",
    "\n",
    "# Function to save a message to the database\n",
    "def save_message(date, username, sentiment, message, cluster):\n",
    "    conn = sqlite3.connect(\"messages.db\")\n",
    "    c = conn.cursor()\n",
    "    c.execute(\"INSERT INTO messages (date, username, sentiment, message, cluster) VALUES (?, ?, ?, ?, ?)\",\n",
    "              (date, username, sentiment, message, cluster))\n",
    "    conn.commit()\n",
    "    conn.close()\n",
    "\n",
    "# Function to analyze the sentiment of a message\n",
    "def analyze_sentiment(message):\n",
    "    analysis = TextBlob(message)\n",
    "    sentiment = 0\n",
    "    if analysis.sentiment.polarity > 0:\n",
    "        sentiment = 1\n",
    "    elif analysis.sentiment.polarity < 0:\n",
    "        sentiment = -1\n",
    "    return sentiment\n",
    "\n",
    "# Function to process each RDD in the DStream\n",
    "def process_rdd(rdd):\n",
    "    if not rdd.isEmpty():\n",
    "        messages = rdd.collect()\n",
    "        for sentiment_value, msg in messages:\n",
    "            msg_data = json.loads(msg)\n",
    "            message = msg_data['message']\n",
    "            sentiment = analyze_sentiment(message)\n",
    "            cluster = model.latestModel().predict(sentiment_value)\n",
    "\n",
    "            # Print the cluster sizes in the sliding window\n",
    "            cluster_counts = rdd.map(lambda x: (model.latestModel().predict(x[0]), 1)).reduceByKey(lambda a, b: a + b).collect()\n",
    "            print(\"Cluster sizes in the sliding window:\")\n",
    "            for cluster, count in cluster_counts:\n",
    "                print(f\"  Cluster {cluster}: {count} messages\")\n",
    "            print(\"\\n\")\n",
    "\n",
    "            # Convert sentiment value to string\n",
    "            if sentiment == 0:\n",
    "                sentiment = \"Neutral\"\n",
    "            elif sentiment == 1:\n",
    "                sentiment = \"Positive\"\n",
    "            elif sentiment == -1:\n",
    "                sentiment = \"Negative\"\n",
    "\n",
    "            # Save the message to the database and print it\n",
    "            save_message(msg_data['date'], msg_data['username'], sentiment, message, cluster)\n",
    "\n",
    "            print(\"--------------------------------------------------\")\n",
    "            print(f\"Timestamp:\\t[{msg_data['date']}]\")\n",
    "            print(f\"Username:\\t{msg_data['username']}\")\n",
    "            print(f\"Sentiment:\\t{sentiment}\")\n",
    "            print(f\"Message:\\t{message}\")\n",
    "            print(f\"Cluster:\\t{cluster}\")\n",
    "            print(\"--------------------------------------------------\\n\")\n",
    "\n",
    "# Create the database table\n",
    "create_db_table()\n",
    "\n",
    "# Initialize the Spark context and streaming context\n",
    "sc = SparkContext(\"local[2]\", \"TwitchSentimentAnalysis\")\n",
    "sc.setLogLevel(\"ERROR\")\n",
    "ssc = StreamingContext(sc, 1)  # 1-second window\n",
    "\n",
    "# Server configuration\n",
    "SERVER_HOST = \"127.0.0.1\"\n",
    "SERVER_PORT = 8081\n",
    "lines = ssc.socketTextStream(SERVER_HOST, SERVER_PORT)\n",
    "\n",
    "# Initialize the streaming k-means model\n",
    "model = StreamingKMeans(k=3, decayFactor=1.0).setRandomCenters(1, 1.0, 0)\n",
    "sentiment_values = lines.map(lambda msg: (Vectors.dense(analyze_sentiment(json.loads(msg)['message'])), msg))\n",
    "model.trainOn(sentiment_values.map(lambda x: x[0]))\n",
    "\n",
    "# Create a windowed DStream with a window duration of 10 seconds and a slide duration of 5 seconds\n",
    "windowed_sentiments = sentiment_values.window(windowDuration=10, slideDuration=5)\n",
    "windowed_sentiments.foreachRDD(process_rdd)\n",
    "\n",
    "# Start the streaming context and wait for it to terminate\n",
    "ssc.start()\n",
    "ssc.awaitTermination()\n"
   ]
  }
 ],
 "metadata": {
  "kernelspec": {
   "display_name": "Python 3",
   "language": "python",
   "name": "python3"
  },
  "language_info": {
   "codemirror_mode": {
    "name": "ipython",
    "version": 3
   },
   "file_extension": ".py",
   "mimetype": "text/x-python",
   "name": "python",
   "nbconvert_exporter": "python",
   "pygments_lexer": "ipython3",
   "version": "3.10.6"
  },
  "orig_nbformat": 4
 },
 "nbformat": 4,
 "nbformat_minor": 2
}
